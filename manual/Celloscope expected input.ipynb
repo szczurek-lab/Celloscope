{
 "cells": [
  {
   "cell_type": "markdown",
   "id": "80fea17c",
   "metadata": {},
   "source": [
    "### Celloscope's expected input\n",
    "\n",
    "1) **C_gs.csv**: ST marker gene expression maxtix\n",
    "\n",
    "2) **matB.csv**: binary matrix (prior knowledge about marker genes)\n",
    "\n",
    "3) **n_cell.csv**: estimates for all number of cell in each spot\n",
    "\n",
    "\n",
    "<span style=\"color:red\">IMPORTANT: marker genes (rows) in  **C_gs.csv** should be in the same order as marker genes (columns) **matB.csv**. Spots (rows) in **n_cell.csv** should in the same order as spots (columns) in **C_gs.csv**.</span>"
   ]
  },
  {
   "cell_type": "markdown",
   "id": "c82572ca",
   "metadata": {},
   "source": [
    "**1) ST expression matrix**   \n"
   ]
  },
  {
   "cell_type": "code",
   "execution_count": 1,
   "id": "606de8d3",
   "metadata": {},
   "outputs": [
    {
     "data": {
      "text/html": [
       "<table class=\"dataframe\">\n",
       "<caption>A data.frame: 5 × 5</caption>\n",
       "<thead>\n",
       "\t<tr><th></th><th scope=col>X35x79</th><th scope=col>X44x94</th><th scope=col>X42x96</th><th scope=col>X26x94</th><th scope=col>X27x99</th></tr>\n",
       "\t<tr><th></th><th scope=col>&lt;int&gt;</th><th scope=col>&lt;int&gt;</th><th scope=col>&lt;int&gt;</th><th scope=col>&lt;int&gt;</th><th scope=col>&lt;int&gt;</th></tr>\n",
       "</thead>\n",
       "<tbody>\n",
       "\t<tr><th scope=row>Slc1a3</th><td> 7</td><td>5</td><td>7</td><td>3</td><td>1</td></tr>\n",
       "\t<tr><th scope=row>Gja1</th><td> 0</td><td>2</td><td>4</td><td>1</td><td>0</td></tr>\n",
       "\t<tr><th scope=row>Atp1a2</th><td>14</td><td>7</td><td>9</td><td>1</td><td>3</td></tr>\n",
       "\t<tr><th scope=row>Atp1b2</th><td> 4</td><td>3</td><td>4</td><td>2</td><td>3</td></tr>\n",
       "\t<tr><th scope=row>Bcan</th><td> 3</td><td>3</td><td>1</td><td>5</td><td>3</td></tr>\n",
       "</tbody>\n",
       "</table>\n"
      ],
      "text/latex": [
       "A data.frame: 5 × 5\n",
       "\\begin{tabular}{r|lllll}\n",
       "  & X35x79 & X44x94 & X42x96 & X26x94 & X27x99\\\\\n",
       "  & <int> & <int> & <int> & <int> & <int>\\\\\n",
       "\\hline\n",
       "\tSlc1a3 &  7 & 5 & 7 & 3 & 1\\\\\n",
       "\tGja1 &  0 & 2 & 4 & 1 & 0\\\\\n",
       "\tAtp1a2 & 14 & 7 & 9 & 1 & 3\\\\\n",
       "\tAtp1b2 &  4 & 3 & 4 & 2 & 3\\\\\n",
       "\tBcan &  3 & 3 & 1 & 5 & 3\\\\\n",
       "\\end{tabular}\n"
      ],
      "text/markdown": [
       "\n",
       "A data.frame: 5 × 5\n",
       "\n",
       "| <!--/--> | X35x79 &lt;int&gt; | X44x94 &lt;int&gt; | X42x96 &lt;int&gt; | X26x94 &lt;int&gt; | X27x99 &lt;int&gt; |\n",
       "|---|---|---|---|---|---|\n",
       "| Slc1a3 |  7 | 5 | 7 | 3 | 1 |\n",
       "| Gja1 |  0 | 2 | 4 | 1 | 0 |\n",
       "| Atp1a2 | 14 | 7 | 9 | 1 | 3 |\n",
       "| Atp1b2 |  4 | 3 | 4 | 2 | 3 |\n",
       "| Bcan |  3 | 3 | 1 | 5 | 3 |\n",
       "\n"
      ],
      "text/plain": [
       "       X35x79 X44x94 X42x96 X26x94 X27x99\n",
       "Slc1a3  7     5      7      3      1     \n",
       "Gja1    0     2      4      1      0     \n",
       "Atp1a2 14     7      9      1      3     \n",
       "Atp1b2  4     3      4      2      3     \n",
       "Bcan    3     3      1      5      3     "
      ]
     },
     "metadata": {},
     "output_type": "display_data"
    }
   ],
   "source": [
    "C_gs <- read.csv(\"~/Celloscope/example/data/C_gs.csv\", row.names=1)\n",
    "C_gs[1:5, 1:5]"
   ]
  },
  {
   "cell_type": "markdown",
   "id": "4d238ffd",
   "metadata": {},
   "source": [
    "**2) Marker genes binary matrix B**    "
   ]
  },
  {
   "cell_type": "code",
   "execution_count": 2,
   "id": "676948cc",
   "metadata": {},
   "outputs": [
    {
     "data": {
      "text/html": [
       "<table class=\"dataframe\">\n",
       "<caption>A data.frame: 5 × 5</caption>\n",
       "<thead>\n",
       "\t<tr><th></th><th scope=col>ASC</th><th scope=col>CPC</th><th scope=col>GABA</th><th scope=col>GLUT</th><th scope=col>OLG</th></tr>\n",
       "\t<tr><th></th><th scope=col>&lt;int&gt;</th><th scope=col>&lt;int&gt;</th><th scope=col>&lt;int&gt;</th><th scope=col>&lt;int&gt;</th><th scope=col>&lt;int&gt;</th></tr>\n",
       "</thead>\n",
       "<tbody>\n",
       "\t<tr><th scope=row>Slc1a3</th><td>1</td><td>0</td><td>0</td><td>0</td><td>0</td></tr>\n",
       "\t<tr><th scope=row>Gja1</th><td>1</td><td>0</td><td>0</td><td>0</td><td>0</td></tr>\n",
       "\t<tr><th scope=row>Atp1a2</th><td>1</td><td>0</td><td>0</td><td>0</td><td>0</td></tr>\n",
       "\t<tr><th scope=row>Atp1b2</th><td>1</td><td>0</td><td>0</td><td>0</td><td>0</td></tr>\n",
       "\t<tr><th scope=row>Bcan</th><td>1</td><td>0</td><td>0</td><td>0</td><td>0</td></tr>\n",
       "</tbody>\n",
       "</table>\n"
      ],
      "text/latex": [
       "A data.frame: 5 × 5\n",
       "\\begin{tabular}{r|lllll}\n",
       "  & ASC & CPC & GABA & GLUT & OLG\\\\\n",
       "  & <int> & <int> & <int> & <int> & <int>\\\\\n",
       "\\hline\n",
       "\tSlc1a3 & 1 & 0 & 0 & 0 & 0\\\\\n",
       "\tGja1 & 1 & 0 & 0 & 0 & 0\\\\\n",
       "\tAtp1a2 & 1 & 0 & 0 & 0 & 0\\\\\n",
       "\tAtp1b2 & 1 & 0 & 0 & 0 & 0\\\\\n",
       "\tBcan & 1 & 0 & 0 & 0 & 0\\\\\n",
       "\\end{tabular}\n"
      ],
      "text/markdown": [
       "\n",
       "A data.frame: 5 × 5\n",
       "\n",
       "| <!--/--> | ASC &lt;int&gt; | CPC &lt;int&gt; | GABA &lt;int&gt; | GLUT &lt;int&gt; | OLG &lt;int&gt; |\n",
       "|---|---|---|---|---|---|\n",
       "| Slc1a3 | 1 | 0 | 0 | 0 | 0 |\n",
       "| Gja1 | 1 | 0 | 0 | 0 | 0 |\n",
       "| Atp1a2 | 1 | 0 | 0 | 0 | 0 |\n",
       "| Atp1b2 | 1 | 0 | 0 | 0 | 0 |\n",
       "| Bcan | 1 | 0 | 0 | 0 | 0 |\n",
       "\n"
      ],
      "text/plain": [
       "       ASC CPC GABA GLUT OLG\n",
       "Slc1a3 1   0   0    0    0  \n",
       "Gja1   1   0   0    0    0  \n",
       "Atp1a2 1   0   0    0    0  \n",
       "Atp1b2 1   0   0    0    0  \n",
       "Bcan   1   0   0    0    0  "
      ]
     },
     "metadata": {},
     "output_type": "display_data"
    }
   ],
   "source": [
    "matB <- read.csv(\"~/Celloscope/example/data/matB.csv\",row.names=1)\n",
    "matB[1:5, 1:5]"
   ]
  },
  {
   "cell_type": "markdown",
   "id": "791a19dc",
   "metadata": {},
   "source": [
    "**3) Estimates for the number of cells in each ST spot**"
   ]
  },
  {
   "cell_type": "code",
   "execution_count": 3,
   "id": "8f3bb9a4",
   "metadata": {},
   "outputs": [
    {
     "data": {
      "text/html": [
       "<table class=\"dataframe\">\n",
       "<caption>A data.frame: 6 × 2</caption>\n",
       "<thead>\n",
       "\t<tr><th></th><th scope=col>spotId</th><th scope=col>cellCount</th></tr>\n",
       "\t<tr><th></th><th scope=col>&lt;chr&gt;</th><th scope=col>&lt;int&gt;</th></tr>\n",
       "</thead>\n",
       "<tbody>\n",
       "\t<tr><th scope=row>833</th><td>35x79</td><td>13</td></tr>\n",
       "\t<tr><th scope=row>1400</th><td>44x94</td><td>12</td></tr>\n",
       "\t<tr><th scope=row>1286</th><td>42x96</td><td>13</td></tr>\n",
       "\t<tr><th scope=row>479</th><td>26x94</td><td>11</td></tr>\n",
       "\t<tr><th scope=row>484</th><td>27x99</td><td>16</td></tr>\n",
       "\t<tr><th scope=row>1171</th><td>40x96</td><td>15</td></tr>\n",
       "</tbody>\n",
       "</table>\n"
      ],
      "text/latex": [
       "A data.frame: 6 × 2\n",
       "\\begin{tabular}{r|ll}\n",
       "  & spotId & cellCount\\\\\n",
       "  & <chr> & <int>\\\\\n",
       "\\hline\n",
       "\t833 & 35x79 & 13\\\\\n",
       "\t1400 & 44x94 & 12\\\\\n",
       "\t1286 & 42x96 & 13\\\\\n",
       "\t479 & 26x94 & 11\\\\\n",
       "\t484 & 27x99 & 16\\\\\n",
       "\t1171 & 40x96 & 15\\\\\n",
       "\\end{tabular}\n"
      ],
      "text/markdown": [
       "\n",
       "A data.frame: 6 × 2\n",
       "\n",
       "| <!--/--> | spotId &lt;chr&gt; | cellCount &lt;int&gt; |\n",
       "|---|---|---|\n",
       "| 833 | 35x79 | 13 |\n",
       "| 1400 | 44x94 | 12 |\n",
       "| 1286 | 42x96 | 13 |\n",
       "| 479 | 26x94 | 11 |\n",
       "| 484 | 27x99 | 16 |\n",
       "| 1171 | 40x96 | 15 |\n",
       "\n"
      ],
      "text/plain": [
       "     spotId cellCount\n",
       "833  35x79  13       \n",
       "1400 44x94  12       \n",
       "1286 42x96  13       \n",
       "479  26x94  11       \n",
       "484  27x99  16       \n",
       "1171 40x96  15       "
      ]
     },
     "metadata": {},
     "output_type": "display_data"
    }
   ],
   "source": [
    "n_cells <- read.csv(\"~/Celloscope/example/data/n_cells.csv\", row.names=1)\n",
    "head(n_cells)\n",
    "#as.matrix(head(df_number_of_cells))"
   ]
  },
  {
   "cell_type": "markdown",
   "id": "82345d1f",
   "metadata": {},
   "source": [
    "<span style=\"color:red\">IMPORTANT: </span>"
   ]
  },
  {
   "cell_type": "code",
   "execution_count": 4,
   "id": "bf101002",
   "metadata": {},
   "outputs": [
    {
     "data": {
      "text/html": [
       "TRUE"
      ],
      "text/latex": [
       "TRUE"
      ],
      "text/markdown": [
       "TRUE"
      ],
      "text/plain": [
       "[1] TRUE"
      ]
     },
     "metadata": {},
     "output_type": "display_data"
    }
   ],
   "source": [
    "all(rownames(matB)==rownames(C_gs))"
   ]
  },
  {
   "cell_type": "code",
   "execution_count": 5,
   "id": "37e4c345",
   "metadata": {},
   "outputs": [
    {
     "data": {
      "text/html": [
       "TRUE"
      ],
      "text/latex": [
       "TRUE"
      ],
      "text/markdown": [
       "TRUE"
      ],
      "text/plain": [
       "[1] TRUE"
      ]
     },
     "metadata": {},
     "output_type": "display_data"
    }
   ],
   "source": [
    "all(n_cells$spotID==colnames(C_gs))"
   ]
  }
 ],
 "metadata": {
  "kernelspec": {
   "display_name": "R",
   "language": "R",
   "name": "ir"
  },
  "language_info": {
   "codemirror_mode": "r",
   "file_extension": ".r",
   "mimetype": "text/x-r-source",
   "name": "R",
   "pygments_lexer": "r",
   "version": "4.2.1"
  }
 },
 "nbformat": 4,
 "nbformat_minor": 5
}
