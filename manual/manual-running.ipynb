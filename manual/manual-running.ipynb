{
 "cells": [
  {
   "cell_type": "markdown",
   "metadata": {},
   "source": [
    "# Running Celloscope\n",
    "\n",
    "Celloscope is implemented in Python. The Celloscope implementation is given the the file `impl.py` in `code` directory.\n",
    "\n",
    "Requested packages:\n",
    "\n",
    "* numpy,\n",
    "* pandas,\n",
    "* scipy.special,\n",
    "* scipy.stats, \n",
    "* multiprocess,\n",
    "* json,\n",
    "* os,\n",
    "* sys.\n"
   ]
  },
  {
   "cell_type": "markdown",
   "metadata": {},
   "source": [
    "## Parameters setting\n",
    "\n",
    "File `params.txt` contains run settings (starting values for parameters) as a Python list.\n",
    "\n",
    "Before running Celloscope write your choise for parameters in the file `params.txt` in `input_data` directory.\n",
    "\n",
    "Names of parameters are given in quotes and values are given after colon."
   ]
  },
  {
   "cell_type": "code",
   "execution_count": 1,
   "metadata": {},
   "outputs": [
    {
     "data": {
      "text/html": [
       "<span style=white-space:pre-wrap>'{\"number of iterations\": 5000, \"burn in\": 2000,  \"mode number of cells\": \"ASPRIORS\",  \"a\":10, \"b\":1, \"a_0\":0.1, \"b_0\":1, \"alpha\": 2,  \"nr_of_spots_to_follow\": 50,   \"step size thetas\": 0.08, \"step size number of cells\": 2.01, \"step size lambda_0\": 0.05, \"step size over lambdas\": 3.01, \"step size p_g\": 0.1, \"thinning_parameter\": 5, \"number of cells prior strength\": 2, \"how often update step size\": 5000, \"how often drop\": 1000}'</span>"
      ],
      "text/latex": [
       "'\\{\"number of iterations\": 5000, \"burn in\": 2000,  \"mode number of cells\": \"ASPRIORS\",  \"a\":10, \"b\":1, \"a\\_0\":0.1, \"b\\_0\":1, \"alpha\": 2,  \"nr\\_of\\_spots\\_to\\_follow\": 50,   \"step size thetas\": 0.08, \"step size number of cells\": 2.01, \"step size lambda\\_0\": 0.05, \"step size over lambdas\": 3.01, \"step size p\\_g\": 0.1, \"thinning\\_parameter\": 5, \"number of cells prior strength\": 2, \"how often update step size\": 5000, \"how often drop\": 1000\\}'"
      ],
      "text/markdown": [
       "<span style=white-space:pre-wrap>'{\"number of iterations\": 5000, \"burn in\": 2000,  \"mode number of cells\": \"ASPRIORS\",  \"a\":10, \"b\":1, \"a_0\":0.1, \"b_0\":1, \"alpha\": 2,  \"nr_of_spots_to_follow\": 50,   \"step size thetas\": 0.08, \"step size number of cells\": 2.01, \"step size lambda_0\": 0.05, \"step size over lambdas\": 3.01, \"step size p_g\": 0.1, \"thinning_parameter\": 5, \"number of cells prior strength\": 2, \"how often update step size\": 5000, \"how often drop\": 1000}'</span>"
      ],
      "text/plain": [
       "[1] \"{\\\"number of iterations\\\": 5000, \\\"burn in\\\": 2000,  \\\"mode number of cells\\\": \\\"ASPRIORS\\\",  \\\"a\\\":10, \\\"b\\\":1, \\\"a_0\\\":0.1, \\\"b_0\\\":1, \\\"alpha\\\": 2,  \\\"nr_of_spots_to_follow\\\": 50,   \\\"step size thetas\\\": 0.08, \\\"step size number of cells\\\": 2.01, \\\"step size lambda_0\\\": 0.05, \\\"step size over lambdas\\\": 3.01, \\\"step size p_g\\\": 0.1, \\\"thinning_parameter\\\": 5, \\\"number of cells prior strength\\\": 2, \\\"how often update step size\\\": 5000, \\\"how often drop\\\": 1000}\""
      ]
     },
     "metadata": {},
     "output_type": "display_data"
    }
   ],
   "source": [
    "input_data <- \"~/Celloscope/example/data/\"\n",
    "paste(readLines(paste0(input_data, \"params.txt\" )), collapse=\" \")"
   ]
  },
  {
   "cell_type": "markdown",
   "metadata": {},
   "source": [
    "* **number of iterations** - the number of iterations for which the model is running,\n",
    "* **burn in** - the number of iteriation thrown away at a beginning of MCMC run,\n",
    "* **mode number of cells** - \"ASPRIORS\" or \"KNOWN\" - the way the number of cells is accounted for in the model, \"ASPRIORS\" (see paper),\n",
    "* **nr_of_spots_to_follow** - the number of spots, for which we will retain each values of $h_{st}$ (starting from spot 1) - no influence on the inference,\n",
    "* **thinning_parameter** - controlls thinning, thinning parameter set to $X$, results in keeping every $X$th value and disregarding the rest,\n",
    "* **how often update step size** - how often do we update step sizes after the burn in period; set to X, results in updating once every $X$ iterations,\n",
    "* **how often drop** - when set to $X$ we drop results of inference to the file - no influence on the inference.\n",
    "\n",
    "Hyperparameters:\n",
    "* **a** - rate parameter for cell types present in a spot,\n",
    "* **b** - scale parameter for cell types present in a spot,\n",
    "* **a_0** - rate parameter for cell types absent in a spot,\n",
    "* **b_0** - scale parameter for cell types absent in a spot,\n",
    "* **alpha** - adjustment for the average number of cell types present in a spot,\n",
    "* **number of cells prior strength** - prior strength for $l_s$ ($\\sigma$).\n",
    "\n",
    "Parameters starting with **step size** describe starting values for step sizes for respective variables. "
   ]
  },
  {
   "cell_type": "markdown",
   "metadata": {},
   "source": [
    "## Celloscope usage\n",
    "\n",
    "Celloscope can be run from the `code` directory as follows:\n",
    "\n",
    "```\n",
    "bash  Celloscope-run.sh 'input_data' 'results' number_of_chains\n",
    "```\n",
    "The arguments of the bash script:\n",
    "* `input_data` - directory cointaining input data,\n",
    "* `results` - directory dedicated for results,\n",
    "* `number_of_chains` - number of independent chains to run.\n",
    "\n",
    "Input files are provided in the `input_data` directory:\n",
    "* `param.txt` - file cotaining parameters,\n",
    "* `matB.csv` - binary matrix with prior knowledge on marker genes,\n",
    "* `C_gs.csv` - gene expression data,\n",
    "* `n_cells.csv` - estimates for the number of cells in each spot.\n",
    "\n",
    "Examplificatory input data is given in `/example/data` directory."
   ]
  }
 ],
 "metadata": {
  "kernelspec": {
   "display_name": "R",
   "language": "R",
   "name": "ir"
  },
  "language_info": {
   "codemirror_mode": "r",
   "file_extension": ".r",
   "mimetype": "text/x-r-source",
   "name": "R",
   "pygments_lexer": "r",
   "version": "3.6.3"
  }
 },
 "nbformat": 4,
 "nbformat_minor": 4
}
