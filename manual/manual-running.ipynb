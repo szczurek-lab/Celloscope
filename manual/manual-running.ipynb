{
 "cells": [
  {
   "cell_type": "markdown",
   "metadata": {},
   "source": [
    "# Running Celloscope\n",
    "\n",
    "Celloscope is implemented in Python. Celloscope's implementation is given the file `impl.py` in the `code` directory.\n",
    "\n",
    "Requested packages:\n",
    "\n",
    "* numpy,\n",
    "* pandas,\n",
    "* scipy.special,\n",
    "* scipy.stats, \n",
    "* multiprocess,\n",
    "* json,\n",
    "* os,\n",
    "* sys.\n"
   ]
  },
  {
   "cell_type": "markdown",
   "metadata": {},
   "source": [
    "## Parameters setting\n",
    "\n",
    "The file `params.txt` contains run settings as a Python list.\n",
    "\n",
    "Before running Celloscope, write your choice of parameters in the file `params.txt` in the `input_data` directory.\n",
    "\n",
    "Parameters' names should be given in quotes, and their values should be given after the colon."
   ]
  },
  {
   "cell_type": "code",
   "execution_count": 3,
   "metadata": {},
   "outputs": [
    {
     "data": {
      "text/html": [
       "<span style=white-space:pre-wrap>'{\"number of iterations\": 15000, \"burn in\": 10000,  \"mode number of cells\": \"ASPRIORS\",  \"a\":10, \"b\":1, \"a_0\":0.1, \"b_0\":1, \"alpha\": 8,  \"step size thetas\": 0.1, \"step size number of cells\": 2.01, \"step size lambda_0\": 0.05, \"step size p_g\": 0.1, \"thinning_parameter\": 10, \"number of cells prior strength\": 2, \"how often update step size\": 3000, \"how often drop\": 10}'</span>"
      ],
      "text/latex": [
       "'\\{\"number of iterations\": 15000, \"burn in\": 10000,  \"mode number of cells\": \"ASPRIORS\",  \"a\":10, \"b\":1, \"a\\_0\":0.1, \"b\\_0\":1, \"alpha\": 8,  \"step size thetas\": 0.1, \"step size number of cells\": 2.01, \"step size lambda\\_0\": 0.05, \"step size p\\_g\": 0.1, \"thinning\\_parameter\": 10, \"number of cells prior strength\": 2, \"how often update step size\": 3000, \"how often drop\": 10\\}'"
      ],
      "text/markdown": [
       "<span style=white-space:pre-wrap>'{\"number of iterations\": 15000, \"burn in\": 10000,  \"mode number of cells\": \"ASPRIORS\",  \"a\":10, \"b\":1, \"a_0\":0.1, \"b_0\":1, \"alpha\": 8,  \"step size thetas\": 0.1, \"step size number of cells\": 2.01, \"step size lambda_0\": 0.05, \"step size p_g\": 0.1, \"thinning_parameter\": 10, \"number of cells prior strength\": 2, \"how often update step size\": 3000, \"how often drop\": 10}'</span>"
      ],
      "text/plain": [
       "[1] \"{\\\"number of iterations\\\": 15000, \\\"burn in\\\": 10000,  \\\"mode number of cells\\\": \\\"ASPRIORS\\\",  \\\"a\\\":10, \\\"b\\\":1, \\\"a_0\\\":0.1, \\\"b_0\\\":1, \\\"alpha\\\": 8,  \\\"step size thetas\\\": 0.1, \\\"step size number of cells\\\": 2.01, \\\"step size lambda_0\\\": 0.05, \\\"step size p_g\\\": 0.1, \\\"thinning_parameter\\\": 10, \\\"number of cells prior strength\\\": 2, \\\"how often update step size\\\": 3000, \\\"how often drop\\\": 10}\""
      ]
     },
     "metadata": {},
     "output_type": "display_data"
    }
   ],
   "source": [
    "input_data <- \"~/Celloscope/example/data/\"\n",
    "paste(readLines(paste0(input_data, \"params.txt\" )), collapse=\" \")"
   ]
  },
  {
   "cell_type": "markdown",
   "metadata": {},
   "source": [
    "* **number of iterations**,\n",
    "* **burn in** - the number of iterations to be thrown away,\n",
    "* **mode number of cells** - \"ASPRIORS\" or \"KNOWN\" - the way the number of cells is accounted for in the model (see paper),\n",
    "* **thinning_parameter** - controlls thinning (thinning parameter set to $X$, results in keeping every $X$th value and disregarding the rest),\n",
    "* **how often update step size** - how often do we update step sizes during the burn-in period; set to X, results in updating once every $X$ iterations,\n",
    "* **how often drop** - if set to $X$, we drop results of the inference to output files once every $X$ iterations- no influence on the inference.\n",
    "\n",
    "Hyperparameters:\n",
    "* **a** - rate parameter for cell types present in a spot,\n",
    "* **b** - scale parameter for cell types present in a spot,\n",
    "* **a_0** - rate parameter for cell types absent in a spot,\n",
    "* **b_0** - scale parameter for cell types absent in a spot,\n",
    "* **alpha** - adjustment for the average number of cell types present in a spot,\n",
    "* **number of cells prior strength** - prior strength for $l_s$ ($\\sigma$).\n",
    "\n",
    "Parameters starting with **step size** describe starting values for step sizes for respective variables. "
   ]
  },
  {
   "cell_type": "markdown",
   "metadata": {},
   "source": [
    "## Celloscope usage\n",
    "\n",
    "Download Cellocope to your home directory. \n",
    "\n",
    "Celloscope can be run from the `code` directory as follows:\n",
    "\n",
    "```\n",
    "bash  Celloscope-run.sh 'input_data' 'results' number_of_chains\n",
    "```\n",
    "The arguments of the bash script:\n",
    "* `input_data` - directory containing input data,\n",
    "* `results` - directory dedicated to results,\n",
    "* `number_of_chains` - number of independent chains to run.\n",
    "\n",
    "Input files are provided in the `input_data` directory:\n",
    "* `param.txt` - file containing parameters,\n",
    "* `matB.csv` - binary matrix with prior knowledge about marker genes,\n",
    "* `C_gs.csv` - gene expression data,\n",
    "* `n_cells.csv` - estimates for the number of cells in each ST spot.\n",
    "\n",
    "Exemplary input files are in the `/example/data` directory."
   ]
  },
  {
   "cell_type": "markdown",
   "metadata": {},
   "source": [
    "### To visualise results run:"
   ]
  },
  {
   "cell_type": "code",
   "execution_count": 7,
   "metadata": {},
   "outputs": [
    {
     "name": "stderr",
     "output_type": "stream",
     "text": [
      "\n",
      "\n",
      "processing file: report.Rmd\n",
      "\n"
     ]
    },
    {
     "name": "stdout",
     "output_type": "stream",
     "text": [
      "  |.....                                                                 |   8%\n",
      "  ordinary text without R code\n",
      "\n",
      "  |...........                                                           |  15%\n",
      "label: unnamed-chunk-1 (with options) \n",
      "List of 1\n",
      " $ echo: logi FALSE\n",
      "\n",
      "  |................                                                      |  23%\n",
      "  ordinary text without R code\n",
      "\n",
      "  |......................                                                |  31%\n",
      "label: unnamed-chunk-2 (with options) \n",
      "List of 1\n",
      " $ echo: logi FALSE\n",
      "\n",
      "  |...........................                                           |  38%\n",
      "  ordinary text without R code\n",
      "\n",
      "  |................................                                      |  46%\n",
      "label: unnamed-chunk-3 (with options) \n",
      "List of 1\n",
      " $ echo: logi FALSE\n",
      "\n",
      "  |......................................                                |  54%\n",
      "  ordinary text without R code\n",
      "\n",
      "  |...........................................                           |  62%\n",
      "label: unnamed-chunk-4 (with options) \n",
      "List of 3\n",
      " $ fig.width : num 2\n",
      " $ fig.height: num 2\n",
      " $ echo      : logi FALSE\n",
      "\n",
      "  |................................................                      |  69%\n",
      "  ordinary text without R code\n",
      "\n",
      "  |......................................................                |  77%\n",
      "label: unnamed-chunk-5 (with options) \n",
      "List of 1\n",
      " $ echo: logi FALSE\n",
      "\n",
      "  |...........................................................           |  85%\n",
      "  ordinary text without R code\n",
      "\n",
      "  |.................................................................     |  92%\n",
      "label: unnamed-chunk-6 (with options) \n",
      "List of 3\n",
      " $ echo      : logi FALSE\n",
      " $ fig.width : num 3\n",
      " $ fig.height: num 2\n",
      "\n",
      "  |......................................................................| 100%\n",
      "  ordinary text without R code\n",
      "\n",
      "\n"
     ]
    },
    {
     "name": "stderr",
     "output_type": "stream",
     "text": [
      "output file: report.knit.md\n",
      "\n",
      "\n"
     ]
    },
    {
     "name": "stdout",
     "output_type": "stream",
     "text": [
      "/usr/bin/pandoc +RTS -K512m -RTS report.knit.md --to html4 --from markdown+autolink_bare_uris+tex_math_single_backslash --output /home/aga/Celloscope/example/report.html --lua-filter /home/aga/R/x86_64-pc-linux-gnu-library/4.2/rmarkdown/rmarkdown/lua/pagebreak.lua --lua-filter /home/aga/R/x86_64-pc-linux-gnu-library/4.2/rmarkdown/rmarkdown/lua/latex-div.lua --self-contained --variable bs3=TRUE --section-divs --template /home/aga/R/x86_64-pc-linux-gnu-library/4.2/rmarkdown/rmd/h/default.html --no-highlight --variable highlightjs=1 --variable theme=bootstrap --mathjax --variable 'mathjax-url=https://mathjax.rstudio.com/latest/MathJax.js?config=TeX-AMS-MML_HTMLorMML' --include-in-header /tmp/Rtmp8Q7ID3/rmarkdown-str21ba551ec9bd.html \n"
     ]
    },
    {
     "name": "stderr",
     "output_type": "stream",
     "text": [
      "\n",
      "Output created: ~/Celloscope/example/report.html\n",
      "\n"
     ]
    }
   ],
   "source": [
    "rmarkdown::render(\"~/Celloscope/code/report.Rmd\", output_file=\"~/Celloscope/example/report.html\",\n",
    "                 params=list(address_input=\"~/Celloscope/example/data/\", \n",
    "                            address_results=\"~/Celloscope/example/results/\"))"
   ]
  }
 ],
 "metadata": {
  "kernelspec": {
   "display_name": "R",
   "language": "R",
   "name": "ir"
  },
  "language_info": {
   "codemirror_mode": "r",
   "file_extension": ".r",
   "mimetype": "text/x-r-source",
   "name": "R",
   "pygments_lexer": "r",
   "version": "4.2.1"
  }
 },
 "nbformat": 4,
 "nbformat_minor": 4
}
